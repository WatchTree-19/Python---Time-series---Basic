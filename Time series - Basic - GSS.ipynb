{
  "cells": [
    {
      "cell_type": "code",
      "execution_count": 4,
      "id": "1b0d7e87-cce8-4a91-b170-79f2e3a4e20f",
      "metadata": {},
      "outputs": [],
      "source": [
        "import pandas as pd\n",
        "import numpy as np\n",
        "import seaborn as sns\n",
        "import os\n",
        "import matplotlib.pyplot as plt\n",
        "%matplotlib inline"
      ]
    },
    {
      "cell_type": "code",
      "execution_count": 6,
      "id": "4b1ee9ac-af87-45d2-a41c-4cfb07bacb71",
      "metadata": {},
      "outputs": [],
      "source": [
        "os.chdir('G:/My Drive/Master/Documents/Academia/Columbia-Postgraduate/QMSS/Res_unit_1/Time series/Assignments/Lab 1')"
      ]
    },
    {
      "cell_type": "code",
      "execution_count": 7,
      "id": "df1241a2-1f13-4ace-971c-5f5398f3a4e5",
      "metadata": {},
      "outputs": [],
      "source": [
        "# read in data from the trends-gss.csv file\n",
        "gss = pd.read_csv(\"trends-gss.csv\")\n"
      ]
    },
    {
      "cell_type": "code",
      "execution_count": 8,
      "id": "7422d7ec-f908-4ae1-b655-40ce86b66bf4",
      "metadata": {},
      "outputs": [],
      "source": [
        "# subset the data to only include the 'natcrime', 'year', 'sex' variables\n",
        "sub = gss[['confinan', 'year', 'sex']]\n",
        "\n",
        "# remove missing values\n",
        "sub = sub.dropna()"
      ]
    },
    {
      "cell_type": "code",
      "execution_count": 9,
      "id": "48176c33-ec7c-4919-a8b9-19160263355a",
      "metadata": {},
      "outputs": [
        {
          "data": {
            "text/plain": [
              "2.0    19659\n",
              "1.0     9015\n",
              "3.0     6379\n",
              "Name: confinan, dtype: int64"
            ]
          },
          "execution_count": 9,
          "metadata": {},
          "output_type": "execute_result"
        }
      ],
      "source": [
        "# display value frequencies\n",
        "sub['confinan'].value_counts()"
      ]
    },
    {
      "cell_type": "code",
      "execution_count": 10,
      "id": "3d04bbfd-b93c-4390-9b89-04803d4917f4",
      "metadata": {},
      "outputs": [],
      "source": [
        "sub['n_confinan'] = sub['confinan'].replace([1, 3], [3, 1])"
      ]
    },
    {
      "cell_type": "code",
      "execution_count": 11,
      "id": "3e5732de-88d1-4984-b6b9-8f07ff2a4964",
      "metadata": {},
      "outputs": [
        {
          "data": {
            "text/plain": [
              "2.0    19659\n",
              "3.0     9015\n",
              "1.0     6379\n",
              "Name: n_confinan, dtype: int64"
            ]
          },
          "execution_count": 11,
          "metadata": {},
          "output_type": "execute_result"
        }
      ],
      "source": [
        "\n",
        "sub['n_confinan'].value_counts()"
      ]
    },
    {
      "cell_type": "code",
      "execution_count": 12,
      "id": "b0d9049e-ad8b-47c0-9fd3-988c9b663c1f",
      "metadata": {},
      "outputs": [
        {
          "data": {
            "text/html": [
              "<div>\n",
              "<style scoped>\n",
              "    .dataframe tbody tr th:only-of-type {\n",
              "        vertical-align: middle;\n",
              "    }\n",
              "\n",
              "    .dataframe tbody tr th {\n",
              "        vertical-align: top;\n",
              "    }\n",
              "\n",
              "    .dataframe thead th {\n",
              "        text-align: right;\n",
              "    }\n",
              "</style>\n",
              "<table border=\"1\" class=\"dataframe\">\n",
              "  <thead>\n",
              "    <tr style=\"text-align: right;\">\n",
              "      <th>col_0</th>\n",
              "      <th>count</th>\n",
              "      <th>percentage</th>\n",
              "    </tr>\n",
              "    <tr>\n",
              "      <th>confinan</th>\n",
              "      <th></th>\n",
              "      <th></th>\n",
              "    </tr>\n",
              "  </thead>\n",
              "  <tbody>\n",
              "    <tr>\n",
              "      <th>1.0</th>\n",
              "      <td>9015</td>\n",
              "      <td>25.72</td>\n",
              "    </tr>\n",
              "    <tr>\n",
              "      <th>2.0</th>\n",
              "      <td>19659</td>\n",
              "      <td>56.08</td>\n",
              "    </tr>\n",
              "    <tr>\n",
              "      <th>3.0</th>\n",
              "      <td>6379</td>\n",
              "      <td>18.20</td>\n",
              "    </tr>\n",
              "  </tbody>\n",
              "</table>\n",
              "</div>"
            ],
            "text/plain": [
              "col_0     count  percentage\n",
              "confinan                   \n",
              "1.0        9015       25.72\n",
              "2.0       19659       56.08\n",
              "3.0        6379       18.20"
            ]
          },
          "execution_count": 12,
          "metadata": {},
          "output_type": "execute_result"
        }
      ],
      "source": [
        "my_tab = pd.crosstab(index=gss[\"confinan\"], columns=\"count\") # Make a crosstab  \n",
        "def compute_percentage(x):\n",
        "      pct = float(x/my_tab['count'].sum()) * 100\n",
        "      return round(pct, 2)\n",
        "\n",
        "my_tab['percentage'] = my_tab.apply(compute_percentage, axis=1)\n",
        "\n",
        "my_tab"
      ]
    },
    {
      "cell_type": "code",
      "execution_count": 13,
      "id": "f66621d0-c27e-4ae5-8121-71d4ade5eb1f",
      "metadata": {},
      "outputs": [],
      "source": [
        "by_year = sub.groupby('year', as_index = False).agg({\"n_confinan\": \"mean\"})\\\n",
        "          .rename(columns = {\"n_confinan\": \"mean_confinan\"})"
      ]
    },
    {
      "cell_type": "code",
      "execution_count": null,
      "id": "69740e7e-4600-4801-901b-78170fd332e6",
      "metadata": {},
      "outputs": [],
      "source": [
        "by_year.plot(x = 'year', y = 'mean_confinan', grid = True)"
      ]
    },
    {
      "cell_type": "code",
      "execution_count": 12,
      "id": "b36053f6-32f4-4ab4-9646-f1ef841d91e4",
      "metadata": {},
      "outputs": [
        {
          "data": {
            "text/plain": [
              "<AxesSubplot:xlabel='year', ylabel='mean_confinan'>"
            ]
          },
          "execution_count": 12,
          "metadata": {},
          "output_type": "execute_result"
        },
        {
          "data": {
            "image/png": "[encoded data removed]",
            "text/plain": [
              "<Figure size 432x288 with 1 Axes>"
            ]
          },
          "metadata": {
            "needs_background": "light"
          },
          "output_type": "display_data"
        }
      ],
      "source": [
        "by_year.plot(x = 'year', y = 'mean_confinan', grid = True)\n",
        "sns.regplot(x = 'year', y = 'mean_confinan', data = by_year, \n",
        "            scatter = False, ci = None, fit_reg = True, color = 'm')"
      ]
    },
    {
      "cell_type": "code",
      "execution_count": 20,
      "id": "c62a48b7-3f7d-44d9-9d35-53c6ef81dbc9",
      "metadata": {},
      "outputs": [
        {
          "data": {
            "text/html": [
              "<table class=\"simpletable\">\n",
              "<caption>OLS Regression Results</caption>\n",
              "<tr>\n",
              "  <th>Dep. Variable:</th>       <td>n_confinan</td>    <th>  R-squared:         </th> <td>   0.021</td> \n",
              "</tr>\n",
              "<tr>\n",
              "  <th>Model:</th>                   <td>OLS</td>       <th>  Adj. R-squared:    </th> <td>   0.021</td> \n",
              "</tr>\n",
              "<tr>\n",
              "  <th>Method:</th>             <td>Least Squares</td>  <th>  F-statistic:       </th> <td>   762.5</td> \n",
              "</tr>\n",
              "<tr>\n",
              "  <th>Date:</th>             <td>Wed, 12 Oct 2022</td> <th>  Prob (F-statistic):</th> <td>4.65e-166</td>\n",
              "</tr>\n",
              "<tr>\n",
              "  <th>Time:</th>                 <td>22:02:00</td>     <th>  Log-Likelihood:    </th> <td> -34711.</td> \n",
              "</tr>\n",
              "<tr>\n",
              "  <th>No. Observations:</th>      <td> 35053</td>      <th>  AIC:               </th> <td>6.943e+04</td>\n",
              "</tr>\n",
              "<tr>\n",
              "  <th>Df Residuals:</th>          <td> 35051</td>      <th>  BIC:               </th> <td>6.944e+04</td>\n",
              "</tr>\n",
              "<tr>\n",
              "  <th>Df Model:</th>              <td>     1</td>      <th>                     </th>     <td> </td>    \n",
              "</tr>\n",
              "<tr>\n",
              "  <th>Covariance Type:</th>      <td>nonrobust</td>    <th>                     </th>     <td> </td>    \n",
              "</tr>\n",
              "</table>\n",
              "<table class=\"simpletable\">\n",
              "<tr>\n",
              "      <td></td>         <th>coef</th>     <th>std err</th>      <th>t</th>      <th>P>|t|</th>  <th>[0.025</th>    <th>0.975]</th>  \n",
              "</tr>\n",
              "<tr>\n",
              "  <th>Intercept</th> <td>   19.4458</td> <td>    0.629</td> <td>   30.912</td> <td> 0.000</td> <td>   18.213</td> <td>   20.679</td>\n",
              "</tr>\n",
              "<tr>\n",
              "  <th>year</th>      <td>   -0.0087</td> <td>    0.000</td> <td>  -27.613</td> <td> 0.000</td> <td>   -0.009</td> <td>   -0.008</td>\n",
              "</tr>\n",
              "</table>\n",
              "<table class=\"simpletable\">\n",
              "<tr>\n",
              "  <th>Omnibus:</th>       <td>1659.545</td> <th>  Durbin-Watson:     </th> <td>   1.869</td> \n",
              "</tr>\n",
              "<tr>\n",
              "  <th>Prob(Omnibus):</th>  <td> 0.000</td>  <th>  Jarque-Bera (JB):  </th> <td> 692.362</td> \n",
              "</tr>\n",
              "<tr>\n",
              "  <th>Skew:</th>           <td>-0.072</td>  <th>  Prob(JB):          </th> <td>4.52e-151</td>\n",
              "</tr>\n",
              "<tr>\n",
              "  <th>Kurtosis:</th>       <td> 2.327</td>  <th>  Cond. No.          </th> <td>3.60e+05</td> \n",
              "</tr>\n",
              "</table><br/><br/>Notes:<br/>[1] Standard Errors assume that the covariance matrix of the errors is correctly specified.<br/>[2] The condition number is large, 3.6e+05. This might indicate that there are<br/>strong multicollinearity or other numerical problems."
            ],
            "text/plain": [
              "<class 'statsmodels.iolib.summary.Summary'>\n",
              "\"\"\"\n",
              "                            OLS Regression Results                            \n",
              "==============================================================================\n",
              "Dep. Variable:             n_confinan   R-squared:                       0.021\n",
              "Model:                            OLS   Adj. R-squared:                  0.021\n",
              "Method:                 Least Squares   F-statistic:                     762.5\n",
              "Date:                Wed, 12 Oct 2022   Prob (F-statistic):          4.65e-166\n",
              "Time:                        22:02:00   Log-Likelihood:                -34711.\n",
              "No. Observations:               35053   AIC:                         6.943e+04\n",
              "Df Residuals:                   35051   BIC:                         6.944e+04\n",
              "Df Model:                           1                                         \n",
              "Covariance Type:            nonrobust                                         \n",
              "==============================================================================\n",
              "                 coef    std err          t      P>|t|      [0.025      0.975]\n",
              "------------------------------------------------------------------------------\n",
              "Intercept     19.4458      0.629     30.912      0.000      18.213      20.679\n",
              "year          -0.0087      0.000    -27.613      0.000      -0.009      -0.008\n",
              "==============================================================================\n",
              "Omnibus:                     1659.545   Durbin-Watson:                   1.869\n",
              "Prob(Omnibus):                  0.000   Jarque-Bera (JB):              692.362\n",
              "Skew:                          -0.072   Prob(JB):                    4.52e-151\n",
              "Kurtosis:                       2.327   Cond. No.                     3.60e+05\n",
              "==============================================================================\n",
              "\n",
              "Notes:\n",
              "[1] Standard Errors assume that the covariance matrix of the errors is correctly specified.\n",
              "[2] The condition number is large, 3.6e+05. This might indicate that there are\n",
              "strong multicollinearity or other numerical problems.\n",
              "\"\"\""
            ]
          },
          "execution_count": 20,
          "metadata": {},
          "output_type": "execute_result"
        }
      ],
      "source": [
        "import statsmodels.api as sm\n",
        "import statsmodels.formula.api as smf\n",
        "\n",
        "# fit regression model\n",
        "lm_confinan = smf.ols('n_confinan ~ year', data = sub).fit()\n",
        "lm_confinan.summary()"
      ]
    },
    {
      "cell_type": "code",
      "execution_count": 14,
      "id": "5f6b99c7-6619-48e0-9fe1-d9fd9c071d43",
      "metadata": {},
      "outputs": [
        {
          "data": {
            "text/plain": [
              "<AxesSubplot:xlabel='year', ylabel='mean_confinan'>"
            ]
          },
          "execution_count": 14,
          "metadata": {},
          "output_type": "execute_result"
        },
        {
          "data": {
            "image/png": "[encoded data removed]",
            "text/plain": [
              "<Figure size 432x288 with 1 Axes>"
            ]
          },
          "metadata": {
            "needs_background": "light"
          },
          "output_type": "display_data"
        }
      ],
      "source": [
        "by_year.plot(x = 'year', y = 'mean_confinan', grid = True)\n",
        "\n",
        "sns.regplot(x = 'year', y = 'mean_confinan', data = by_year, order = 2,\n",
        "            scatter = False, ci = None, fit_reg = True, color = 'm')"
      ]
    },
    {
      "cell_type": "code",
      "execution_count": 18,
      "id": "52e9d569-c23e-4fe3-99ec-22ddf6032bf3",
      "metadata": {},
      "outputs": [
        {
          "data": {
            "text/html": [
              "<table class=\"simpletable\">\n",
              "<caption>OLS Regression Results</caption>\n",
              "<tr>\n",
              "  <th>Dep. Variable:</th>       <td>n_confinan</td>    <th>  R-squared:         </th> <td>   0.021</td> \n",
              "</tr>\n",
              "<tr>\n",
              "  <th>Model:</th>                   <td>OLS</td>       <th>  Adj. R-squared:    </th> <td>   0.021</td> \n",
              "</tr>\n",
              "<tr>\n",
              "  <th>Method:</th>             <td>Least Squares</td>  <th>  F-statistic:       </th> <td>   384.0</td> \n",
              "</tr>\n",
              "<tr>\n",
              "  <th>Date:</th>             <td>Wed, 12 Oct 2022</td> <th>  Prob (F-statistic):</th> <td>1.09e-165</td>\n",
              "</tr>\n",
              "<tr>\n",
              "  <th>Time:</th>                 <td>22:00:48</td>     <th>  Log-Likelihood:    </th> <td> -34709.</td> \n",
              "</tr>\n",
              "<tr>\n",
              "  <th>No. Observations:</th>      <td> 35053</td>      <th>  AIC:               </th> <td>6.942e+04</td>\n",
              "</tr>\n",
              "<tr>\n",
              "  <th>Df Residuals:</th>          <td> 35050</td>      <th>  BIC:               </th> <td>6.945e+04</td>\n",
              "</tr>\n",
              "<tr>\n",
              "  <th>Df Model:</th>              <td>     2</td>      <th>                     </th>     <td> </td>    \n",
              "</tr>\n",
              "<tr>\n",
              "  <th>Covariance Type:</th>      <td>nonrobust</td>    <th>                     </th>     <td> </td>    \n",
              "</tr>\n",
              "</table>\n",
              "<table class=\"simpletable\">\n",
              "<tr>\n",
              "         <td></td>            <th>coef</th>     <th>std err</th>      <th>t</th>      <th>P>|t|</th>  <th>[0.025</th>    <th>0.975]</th>  \n",
              "</tr>\n",
              "<tr>\n",
              "  <th>Intercept</th>       <td>  304.5799</td> <td>  122.934</td> <td>    2.478</td> <td> 0.013</td> <td>   63.626</td> <td>  545.534</td>\n",
              "</tr>\n",
              "<tr>\n",
              "  <th>year</th>            <td>   -0.2949</td> <td>    0.123</td> <td>   -2.390</td> <td> 0.017</td> <td>   -0.537</td> <td>   -0.053</td>\n",
              "</tr>\n",
              "<tr>\n",
              "  <th>np.square(year)</th> <td>  7.18e-05</td> <td>  3.1e-05</td> <td>    2.319</td> <td> 0.020</td> <td> 1.11e-05</td> <td>    0.000</td>\n",
              "</tr>\n",
              "</table>\n",
              "<table class=\"simpletable\">\n",
              "<tr>\n",
              "  <th>Omnibus:</th>       <td>1656.987</td> <th>  Durbin-Watson:     </th> <td>   1.870</td> \n",
              "</tr>\n",
              "<tr>\n",
              "  <th>Prob(Omnibus):</th>  <td> 0.000</td>  <th>  Jarque-Bera (JB):  </th> <td> 692.043</td> \n",
              "</tr>\n",
              "<tr>\n",
              "  <th>Skew:</th>           <td>-0.072</td>  <th>  Prob(JB):          </th> <td>5.31e-151</td>\n",
              "</tr>\n",
              "<tr>\n",
              "  <th>Kurtosis:</th>       <td> 2.327</td>  <th>  Cond. No.          </th> <td>1.40e+11</td> \n",
              "</tr>\n",
              "</table><br/><br/>Notes:<br/>[1] Standard Errors assume that the covariance matrix of the errors is correctly specified.<br/>[2] The condition number is large, 1.4e+11. This might indicate that there are<br/>strong multicollinearity or other numerical problems."
            ],
            "text/plain": [
              "<class 'statsmodels.iolib.summary.Summary'>\n",
              "\"\"\"\n",
              "                            OLS Regression Results                            \n",
              "==============================================================================\n",
              "Dep. Variable:             n_confinan   R-squared:                       0.021\n",
              "Model:                            OLS   Adj. R-squared:                  0.021\n",
              "Method:                 Least Squares   F-statistic:                     384.0\n",
              "Date:                Wed, 12 Oct 2022   Prob (F-statistic):          1.09e-165\n",
              "Time:                        22:00:48   Log-Likelihood:                -34709.\n",
              "No. Observations:               35053   AIC:                         6.942e+04\n",
              "Df Residuals:                   35050   BIC:                         6.945e+04\n",
              "Df Model:                           2                                         \n",
              "Covariance Type:            nonrobust                                         \n",
              "===================================================================================\n",
              "                      coef    std err          t      P>|t|      [0.025      0.975]\n",
              "-----------------------------------------------------------------------------------\n",
              "Intercept         304.5799    122.934      2.478      0.013      63.626     545.534\n",
              "year               -0.2949      0.123     -2.390      0.017      -0.537      -0.053\n",
              "np.square(year)   7.18e-05    3.1e-05      2.319      0.020    1.11e-05       0.000\n",
              "==============================================================================\n",
              "Omnibus:                     1656.987   Durbin-Watson:                   1.870\n",
              "Prob(Omnibus):                  0.000   Jarque-Bera (JB):              692.043\n",
              "Skew:                          -0.072   Prob(JB):                    5.31e-151\n",
              "Kurtosis:                       2.327   Cond. No.                     1.40e+11\n",
              "==============================================================================\n",
              "\n",
              "Notes:\n",
              "[1] Standard Errors assume that the covariance matrix of the errors is correctly specified.\n",
              "[2] The condition number is large, 1.4e+11. This might indicate that there are\n",
              "strong multicollinearity or other numerical problems.\n",
              "\"\"\""
            ]
          },
          "execution_count": 18,
          "metadata": {},
          "output_type": "execute_result"
        }
      ],
      "source": [
        "lm_confinansq = smf.ols('n_confinan ~ year + np.square(year)', data = sub).fit()\n",
        "lm_confinansq.summary()"
      ]
    },
    {
      "cell_type": "code",
      "execution_count": 15,
      "id": "64340c38-9b7c-484c-bee4-13fb235c9805",
      "metadata": {},
      "outputs": [
        {
          "data": {
            "text/plain": [
              "<AxesSubplot:xlabel='year', ylabel='mean_confinan'>"
            ]
          },
          "execution_count": 15,
          "metadata": {},
          "output_type": "execute_result"
        },
        {
          "data": {
            "image/png": "[encoded data removed]",
            "text/plain": [
              "<Figure size 432x288 with 1 Axes>"
            ]
          },
          "metadata": {
            "needs_background": "light"
          },
          "output_type": "display_data"
        }
      ],
      "source": [
        "by_year.plot(x = 'year', y = 'mean_confinan', grid = True)\n",
        "\n",
        "sns.regplot(x = 'year', y = 'mean_confinan', data = by_year, order = 3,\n",
        "            scatter = False, ci = None, fit_reg = True, color = 'm')"
      ]
    },
    {
      "cell_type": "code",
      "execution_count": 19,
      "id": "20c298c8-1428-42e4-a5fb-0c0d0447ad6a",
      "metadata": {},
      "outputs": [
        {
          "data": {
            "text/html": [
              "<table class=\"simpletable\">\n",
              "<caption>OLS Regression Results</caption>\n",
              "<tr>\n",
              "  <th>Dep. Variable:</th>       <td>n_confinan</td>    <th>  R-squared:         </th> <td>   0.021</td> \n",
              "</tr>\n",
              "<tr>\n",
              "  <th>Model:</th>                   <td>OLS</td>       <th>  Adj. R-squared:    </th> <td>   0.021</td> \n",
              "</tr>\n",
              "<tr>\n",
              "  <th>Method:</th>             <td>Least Squares</td>  <th>  F-statistic:       </th> <td>   383.7</td> \n",
              "</tr>\n",
              "<tr>\n",
              "  <th>Date:</th>             <td>Wed, 12 Oct 2022</td> <th>  Prob (F-statistic):</th> <td>1.39e-165</td>\n",
              "</tr>\n",
              "<tr>\n",
              "  <th>Time:</th>                 <td>22:01:34</td>     <th>  Log-Likelihood:    </th> <td> -34709.</td> \n",
              "</tr>\n",
              "<tr>\n",
              "  <th>No. Observations:</th>      <td> 35053</td>      <th>  AIC:               </th> <td>6.942e+04</td>\n",
              "</tr>\n",
              "<tr>\n",
              "  <th>Df Residuals:</th>          <td> 35050</td>      <th>  BIC:               </th> <td>6.945e+04</td>\n",
              "</tr>\n",
              "<tr>\n",
              "  <th>Df Model:</th>              <td>     2</td>      <th>                     </th>     <td> </td>    \n",
              "</tr>\n",
              "<tr>\n",
              "  <th>Covariance Type:</th>      <td>nonrobust</td>    <th>                     </th>     <td> </td>    \n",
              "</tr>\n",
              "</table>\n",
              "<table class=\"simpletable\">\n",
              "<tr>\n",
              "          <td></td>             <th>coef</th>     <th>std err</th>      <th>t</th>      <th>P>|t|</th>  <th>[0.025</th>    <th>0.975]</th>  \n",
              "</tr>\n",
              "<tr>\n",
              "  <th>Intercept</th>         <td>    0.0002</td> <td> 9.28e-05</td> <td>    2.553</td> <td> 0.011</td> <td>  5.5e-05</td> <td>    0.000</td>\n",
              "</tr>\n",
              "<tr>\n",
              "  <th>year</th>              <td>    0.1574</td> <td>    0.062</td> <td>    2.553</td> <td> 0.011</td> <td>    0.037</td> <td>    0.278</td>\n",
              "</tr>\n",
              "<tr>\n",
              "  <th>np.square(year)</th>   <td>   -0.0002</td> <td> 6.19e-05</td> <td>   -2.457</td> <td> 0.014</td> <td>   -0.000</td> <td>-3.08e-05</td>\n",
              "</tr>\n",
              "<tr>\n",
              "  <th>np.power(year, 3)</th> <td> 3.693e-08</td> <td> 1.55e-08</td> <td>    2.378</td> <td> 0.017</td> <td> 6.49e-09</td> <td> 6.74e-08</td>\n",
              "</tr>\n",
              "</table>\n",
              "<table class=\"simpletable\">\n",
              "<tr>\n",
              "  <th>Omnibus:</th>       <td>1657.189</td> <th>  Durbin-Watson:     </th> <td>   1.870</td> \n",
              "</tr>\n",
              "<tr>\n",
              "  <th>Prob(Omnibus):</th>  <td> 0.000</td>  <th>  Jarque-Bera (JB):  </th> <td> 692.079</td> \n",
              "</tr>\n",
              "<tr>\n",
              "  <th>Skew:</th>           <td>-0.072</td>  <th>  Prob(JB):          </th> <td>5.21e-151</td>\n",
              "</tr>\n",
              "<tr>\n",
              "  <th>Kurtosis:</th>       <td> 2.327</td>  <th>  Cond. No.          </th> <td>5.87e+16</td> \n",
              "</tr>\n",
              "</table><br/><br/>Notes:<br/>[1] Standard Errors assume that the covariance matrix of the errors is correctly specified.<br/>[2] The condition number is large, 5.87e+16. This might indicate that there are<br/>strong multicollinearity or other numerical problems."
            ],
            "text/plain": [
              "<class 'statsmodels.iolib.summary.Summary'>\n",
              "\"\"\"\n",
              "                            OLS Regression Results                            \n",
              "==============================================================================\n",
              "Dep. Variable:             n_confinan   R-squared:                       0.021\n",
              "Model:                            OLS   Adj. R-squared:                  0.021\n",
              "Method:                 Least Squares   F-statistic:                     383.7\n",
              "Date:                Wed, 12 Oct 2022   Prob (F-statistic):          1.39e-165\n",
              "Time:                        22:01:34   Log-Likelihood:                -34709.\n",
              "No. Observations:               35053   AIC:                         6.942e+04\n",
              "Df Residuals:                   35050   BIC:                         6.945e+04\n",
              "Df Model:                           2                                         \n",
              "Covariance Type:            nonrobust                                         \n",
              "=====================================================================================\n",
              "                        coef    std err          t      P>|t|      [0.025      0.975]\n",
              "-------------------------------------------------------------------------------------\n",
              "Intercept             0.0002   9.28e-05      2.553      0.011     5.5e-05       0.000\n",
              "year                  0.1574      0.062      2.553      0.011       0.037       0.278\n",
              "np.square(year)      -0.0002   6.19e-05     -2.457      0.014      -0.000   -3.08e-05\n",
              "np.power(year, 3)  3.693e-08   1.55e-08      2.378      0.017    6.49e-09    6.74e-08\n",
              "==============================================================================\n",
              "Omnibus:                     1657.189   Durbin-Watson:                   1.870\n",
              "Prob(Omnibus):                  0.000   Jarque-Bera (JB):              692.079\n",
              "Skew:                          -0.072   Prob(JB):                    5.21e-151\n",
              "Kurtosis:                       2.327   Cond. No.                     5.87e+16\n",
              "==============================================================================\n",
              "\n",
              "Notes:\n",
              "[1] Standard Errors assume that the covariance matrix of the errors is correctly specified.\n",
              "[2] The condition number is large, 5.87e+16. This might indicate that there are\n",
              "strong multicollinearity or other numerical problems.\n",
              "\"\"\""
            ]
          },
          "execution_count": 19,
          "metadata": {},
          "output_type": "execute_result"
        }
      ],
      "source": [
        "lm_confinancu = smf.ols('n_confinan ~ year + np.square(year) + np.power(year, 3)', data = sub).fit()\n",
        "lm_confinancu.summary()"
      ]
    },
    {
      "cell_type": "code",
      "execution_count": 23,
      "id": "49c1325c-6cbe-4953-a97c-83c3c17252fc",
      "metadata": {},
      "outputs": [],
      "source": [
        "sub['sex'].replace({1: 'Male', 2: 'Female'}, inplace = True)"
      ]
    },
    {
      "cell_type": "code",
      "execution_count": 24,
      "id": "8b9862a7-1171-4973-ac85-78c54367404a",
      "metadata": {},
      "outputs": [
        {
          "data": {
            "text/html": [
              "<div>\n",
              "<style scoped>\n",
              "    .dataframe tbody tr th:only-of-type {\n",
              "        vertical-align: middle;\n",
              "    }\n",
              "\n",
              "    .dataframe tbody tr th {\n",
              "        vertical-align: top;\n",
              "    }\n",
              "\n",
              "    .dataframe thead th {\n",
              "        text-align: right;\n",
              "    }\n",
              "</style>\n",
              "<table border=\"1\" class=\"dataframe\">\n",
              "  <thead>\n",
              "    <tr style=\"text-align: right;\">\n",
              "      <th>sex</th>\n",
              "      <th>Female</th>\n",
              "      <th>Male</th>\n",
              "    </tr>\n",
              "    <tr>\n",
              "      <th>year</th>\n",
              "      <th></th>\n",
              "      <th></th>\n",
              "    </tr>\n",
              "  </thead>\n",
              "  <tbody>\n",
              "    <tr>\n",
              "      <th>1975</th>\n",
              "      <td>2.257901</td>\n",
              "      <td>2.162328</td>\n",
              "    </tr>\n",
              "    <tr>\n",
              "      <th>1976</th>\n",
              "      <td>2.339152</td>\n",
              "      <td>2.258410</td>\n",
              "    </tr>\n",
              "    <tr>\n",
              "      <th>1977</th>\n",
              "      <td>2.372236</td>\n",
              "      <td>2.294891</td>\n",
              "    </tr>\n",
              "    <tr>\n",
              "      <th>1978</th>\n",
              "      <td>2.212156</td>\n",
              "      <td>2.218898</td>\n",
              "    </tr>\n",
              "    <tr>\n",
              "      <th>1980</th>\n",
              "      <td>2.181242</td>\n",
              "      <td>2.152997</td>\n",
              "    </tr>\n",
              "  </tbody>\n",
              "</table>\n",
              "</div>"
            ],
            "text/plain": [
              "sex     Female      Male\n",
              "year                    \n",
              "1975  2.257901  2.162328\n",
              "1976  2.339152  2.258410\n",
              "1977  2.372236  2.294891\n",
              "1978  2.212156  2.218898\n",
              "1980  2.181242  2.152997"
            ]
          },
          "execution_count": 24,
          "metadata": {},
          "output_type": "execute_result"
        }
      ],
      "source": [
        "by_year_sex = sub.groupby(['year', 'sex']).mean()['n_confinan'].unstack()\n",
        "\n",
        "by_year_sex.head()"
      ]
    },
    {
      "cell_type": "code",
      "execution_count": 40,
      "id": "0ca0fe9b-2aa8-4414-a1ba-39fe71d00c12",
      "metadata": {},
      "outputs": [
        {
          "data": {
            "text/plain": [
              "Text(0, 0.5, 'mean')"
            ]
          },
          "execution_count": 40,
          "metadata": {},
          "output_type": "execute_result"
        },
        {
          "data": {
            "image/png": "[encoded data removed]",
            "text/plain": [
              "<Figure size 432x288 with 1 Axes>"
            ]
          },
          "metadata": {
            "needs_background": "light"
          },
          "output_type": "display_data"
        }
      ],
      "source": [
        "ax = by_year_sex.plot(color = ['pink', 'blue'], grid = True)\n",
        "\n",
        "sns.regplot(x = by_year_sex.index, y = 'Female', data = by_year_sex,\n",
        "            scatter = False, ci = None, fit_reg = True, color = 'pink')\n",
        "sns.regplot(x = by_year_sex.index, y = 'Male', data = by_year_sex,\n",
        "            scatter = False, ci = None, fit_reg = True, color = 'blue')\n",
        "\n",
        "ax.set_ylabel('mean')"
      ]
    },
    {
      "cell_type": "code",
      "execution_count": null,
      "id": "4a021dc6-fc47-44fb-88d5-356f2cf4ee8b",
      "metadata": {},
      "outputs": [],
      "source": []
    },
    {
      "cell_type": "code",
      "execution_count": null,
      "id": "f7feb20e-ef6b-4f0f-9b56-5114515ed2c8",
      "metadata": {},
      "outputs": [],
      "source": []
    }
  ],
  "metadata": {
    "kernelspec": {
      "display_name": "Python 3 (ipykernel)",
      "language": "python",
      "name": "python3"
    },
    "language_info": {
      "codemirror_mode": {
        "name": "ipython",
        "version": 3
      },
      "file_extension": ".py",
      "mimetype": "text/x-python",
      "name": "python",
      "nbconvert_exporter": "python",
      "pygments_lexer": "ipython3",
      "version": "3.9.12"
    }
  },
  "nbformat": 4,
  "nbformat_minor": 5
}